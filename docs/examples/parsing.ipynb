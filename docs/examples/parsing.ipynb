{
 "cells": [
  {
   "cell_type": "markdown",
   "metadata": {},
   "source": [
    "# Parsing examples\n",
    "\n",
    "Some examples on parsing to and from supported formats. More info about all\n",
    "parsing methods can be found in the [manual section](../manual/parsing.rst).\n",
    "\n",
    "## Declare paths\n",
    "\n",
    "First, let's do all the necessary imports and generate the paths that we'll use\n",
    "for file import and export."
   ]
  },
  {
   "cell_type": "code",
   "execution_count": 1,
   "metadata": {},
   "outputs": [],
   "source": [
    "from pathlib import Path\n",
    "import pygaps.parsing as pgp\n",
    "\n",
    "# Get directory paths\n",
    "base_path = Path.cwd() / 'data' / 'parsing'\n",
    "\n",
    "# Find files\n",
    "aif_file_paths = list((base_path / 'aif').rglob('*.aif'))\n",
    "json_file_paths = list((base_path / 'json').rglob('*.json'))\n",
    "xl_file_paths = list((base_path / 'excel').rglob('*.xls'))\n",
    "csv_file_paths = list((base_path / 'csv').rglob('*.csv'))"
   ]
  },
  {
   "cell_type": "markdown",
   "metadata": {},
   "source": [
    "## Manufacturer import\n",
    "\n",
    "Many report files from various adsorption device manufacturers can be imported\n",
    "directly using pyGAPS. Here are some examples."
   ]
  },
  {
   "cell_type": "code",
   "execution_count": 4,
   "metadata": {},
   "outputs": [
    {
     "name": "stdout",
     "output_type": "stream",
     "text": [
      "Specified adsorbate is not in internal list (or name cannot be resolved to an existing one). Thermodynamic backend disabled for this gas/vapour.\n",
      "WARNING: 'temperature_unit' was not specified , assumed as 'K'\n",
      "WARNING: 'temperature_unit' was not specified , assumed as 'K'\n",
      "WARNING: 'material_basis' was not specified , assumed as 'mass'\n",
      "WARNING: 'loading_basis' was not specified , assumed as 'molar'\n"
     ]
    }
   ],
   "source": [
    "cfld = base_path / \"commercial\"\n",
    "dvssms = pgp.isotherm_from_commercial(cfld / \"smsdvs\" / \"13X water 30c.xlsx\", 'smsdvs', 'xlsx')\n",
    "micromeritics = pgp.isotherm_from_commercial(cfld / \"mic\" / \"Sample_A.xls\", 'mic', 'xl')\n",
    "belsorp_dat = pgp.isotherm_from_commercial(cfld / \"bel\" / \"BF010_DUT-13_CH4_111K_run2.DAT\", 'bel', 'dat')\n",
    "belsorp_xl = pgp.isotherm_from_commercial(cfld / \"bel\" / \"Sample_C.xls\", 'bel', 'xl')\n",
    "threeP_xl = pgp.isotherm_from_commercial(cfld / \"3p\" / \"AC_ref_filter_Ar_87K_run 3_rep.xlsx\", '3p', 'xl')\n",
    "quantachrome = pgp.isotherm_from_commercial(cfld / \"qnt\" / \"BF001 (Raw Analysis Data).txt\", 'qnt', 'txt-raw')"
   ]
  },
  {
   "cell_type": "markdown",
   "metadata": {},
   "source": [
    "## AIF Parsing\n",
    "### AIF Import\n",
    "\n",
    "Adsorption information files are fully supported in pyGAPS, both for import and\n",
    "exports. Isotherms can be imported from an `.aif` as:"
   ]
  },
  {
   "cell_type": "code",
   "execution_count": 5,
   "metadata": {},
   "outputs": [
    {
     "name": "stdout",
     "output_type": "stream",
     "text": [
      "Material: DMOF\n",
      "Adsorbate: ethane\n",
      "Temperature: 298.15K\n",
      "Units: \n",
      "\tUptake in: cm3(STP)/g\n",
      "\tPressure in: kPa\n",
      "Other properties: \n",
      "\tuser: single gas\n",
      "\tdate: 2019-08-19T00:00:00\n",
      "\tinstrument: BEL VC-05\n",
      "\tmaterial_mass: 0.817\n",
      "\tmaterial_batch: [Zn2(tm-bdc)2(dabco)]\n",
      "\tmaterial_mass_unit: g\n",
      "\n"
     ]
    }
   ],
   "source": [
    "# Import all\n",
    "isotherms = [pgp.isotherm_from_aif(path) for path in aif_file_paths]\n",
    "\n",
    "# Display an example file\n",
    "print(isotherms[1])"
   ]
  },
  {
   "cell_type": "markdown",
   "metadata": {},
   "source": [
    "### AIF Export\n",
    "\n",
    "Similarly, an isotherm can be exported as an AIF file or a string, depending on\n",
    "whether a path is passed. For this purpose use either the module\n",
    "`pygaps.isotherm_to_aif()` function or the convenience class function\n",
    "`to_aif()`."
   ]
  },
  {
   "cell_type": "code",
   "execution_count": 12,
   "metadata": {},
   "outputs": [],
   "source": [
    "# module function\n",
    "for isotherm, path in zip(isotherms, aif_file_paths):\n",
    "    pgp.isotherm_to_aif(isotherm, path)\n",
    "\n",
    "# save to file with convenience function\n",
    "isotherms[0].to_aif('isotherm.aif')\n",
    "\n",
    "# string\n",
    "isotherm_string = isotherms[0].to_aif()"
   ]
  },
  {
   "cell_type": "markdown",
   "metadata": {},
   "source": [
    "## JSON Parsing\n",
    "### JSON Import\n",
    "\n",
    "Isotherms can be imported either from a json file or from a json string. The\n",
    "same function is used in both cases."
   ]
  },
  {
   "cell_type": "code",
   "execution_count": 7,
   "metadata": {},
   "outputs": [
    {
     "name": "stdout",
     "output_type": "stream",
     "text": [
      "Material: TEST\n",
      "Adsorbate: n-butane\n",
      "Temperature: 298.15K\n",
      "Units: \n",
      "\tUptake in: g/g\n",
      "\tPressure in: bar\n",
      "Other properties: \n",
      "\tiso_type: isotherm\n",
      "\tmaterial_batch: TB\n",
      "\n"
     ]
    }
   ],
   "source": [
    "# Import them\n",
    "isotherms = [pgp.isotherm_from_json(path) for path in json_file_paths]\n",
    "\n",
    "# Display an example file\n",
    "print(isotherms[1])"
   ]
  },
  {
   "cell_type": "markdown",
   "metadata": {},
   "source": [
    "### JSON Export\n",
    "\n",
    "Exporting to JSON can be done to a file or a string, depending on whether a path\n",
    "is passed. For this purpose use either the module `pygaps.isotherm_to_json()`\n",
    "function or the convenience class function `to_json()`."
   ]
  },
  {
   "cell_type": "code",
   "execution_count": 11,
   "metadata": {},
   "outputs": [],
   "source": [
    "# module function\n",
    "for isotherm, path in zip(isotherms, json_file_paths):\n",
    "    pgp.isotherm_to_json(isotherm, path, indent=4)\n",
    "\n",
    "# save to file with convenience function\n",
    "isotherms[0].to_json('isotherm.json')\n",
    "\n",
    "# string\n",
    "isotherm_string = isotherms[0].to_json()"
   ]
  },
  {
   "cell_type": "markdown",
   "metadata": {},
   "source": [
    "## Excel Parsing\n",
    "\n",
    "Excel *does not* have to be installed on the system in use.\n",
    "\n",
    "### Excel Import"
   ]
  },
  {
   "cell_type": "code",
   "execution_count": 9,
   "metadata": {
    "scrolled": true
   },
   "outputs": [
    {
     "name": "stdout",
     "output_type": "stream",
     "text": [
      "The file version is None while the parser uses version 3.0. Strange things might happen, so double check your data.\n",
      "WARNING: 'temperature_unit' was not specified , assumed as 'K'\n",
      "The file version is None while the parser uses version 3.0. Strange things might happen, so double check your data.\n",
      "WARNING: 'temperature_unit' was not specified , assumed as 'K'\n",
      "Material: MCM-41\n",
      "Adsorbate: nitrogen\n",
      "Temperature: 77.0K\n",
      "Units: \n",
      "\tUptake in: mmol/g\n",
      "\tPressure in: bar\n",
      "Other properties: \n",
      "\tcomment: None\n",
      "\tdate: None\n",
      "\tlab: MADIREL\n",
      "\tinstrument: Triflex\n",
      "\tproject: None\n",
      "\tactivation_temperature: 150.0\n",
      "\tuser: PI\n",
      "\tiso_type: Isotherme\n",
      "\tmaterial_batch: Test\n",
      "\n"
     ]
    }
   ],
   "source": [
    "# Import them\n",
    "isotherms = [pgp.isotherm_from_xl(path) for path in xl_file_paths]\n",
    "\n",
    "# Display an example file\n",
    "print(isotherms[1])"
   ]
  },
  {
   "cell_type": "code",
   "execution_count": 10,
   "metadata": {},
   "outputs": [
    {
     "data": {
      "image/png": "[encoded data removed]"
     },
     "metadata": {
      "needs_background": "light"
     },
     "output_type": "display_data"
    }
   ],
   "source": [
    "isotherms[1].plot()"
   ]
  },
  {
   "cell_type": "markdown",
   "metadata": {},
   "source": [
    "### Excel Export"
   ]
  },
  {
   "cell_type": "code",
   "execution_count": 11,
   "metadata": {},
   "outputs": [],
   "source": [
    "# Export each isotherm in turn\n",
    "for isotherm, path in zip(isotherms, xl_file_paths):\n",
    "    pgp.isotherm_to_xl(isotherm, path)\n",
    "\n",
    "# save to file with convenience function\n",
    "isotherms[0].to_xl('isotherm.xls')"
   ]
  },
  {
   "cell_type": "markdown",
   "metadata": {},
   "source": [
    "## CSV Parsing\n",
    "### CSV Import\n",
    "\n",
    "\n",
    "Like JSON, isotherms can be imported either from a CSV file or from a CSV string. The same function is used in both cases."
   ]
  },
  {
   "cell_type": "code",
   "execution_count": 12,
   "metadata": {},
   "outputs": [
    {
     "name": "stdout",
     "output_type": "stream",
     "text": [
      "WARNING: 'temperature_unit' was not specified , assumed as 'K'\n",
      "WARNING: 'temperature_unit' was not specified , assumed as 'K'\n",
      "Material: HKUST-1(Cu)\n",
      "Adsorbate: carbon dioxide\n",
      "Temperature: 303.0K\n",
      "Units: \n",
      "\tUptake in: mmol/g\n",
      "\tPressure in: bar\n",
      "Other properties: \n",
      "\tmaterial_batch: Test\n",
      "\tiso_type: Calorimetrie\n",
      "\tuser: ADW\n",
      "\tmachine: CV\n",
      "\tdate: 21/05/2010 00:00\n",
      "\tactivation_temperature: 150.0\n",
      "\tlab: MADIREL\n",
      "\n"
     ]
    }
   ],
   "source": [
    "# Import them\n",
    "isotherms = [pgp.isotherm_from_csv(path) for path in csv_file_paths]\n",
    "\n",
    "# Display an example file\n",
    "print(isotherms[0])"
   ]
  },
  {
   "cell_type": "markdown",
   "metadata": {},
   "source": [
    "### CSV Export"
   ]
  },
  {
   "cell_type": "code",
   "execution_count": 13,
   "metadata": {},
   "outputs": [],
   "source": [
    "# Export each isotherm in turn\n",
    "for isotherm, path in zip(isotherms, csv_file_paths):\n",
    "    pgp.isotherm_to_csv(isotherm, path)\n",
    "\n",
    "# save to file with convenience function\n",
    "isotherms[0].to_csv('isotherm.csv')\n",
    "\n",
    "# string representation\n",
    "isotherm_string = isotherms[0].to_csv()"
   ]
  }
 ],
 "metadata": {
  "kernelspec": {
   "display_name": "Python 3.9.12 ('sci')",
   "language": "python",
   "name": "python3"
  },
  "language_info": {
   "codemirror_mode": {
    "name": "ipython",
    "version": 3
   },
   "file_extension": ".py",
   "mimetype": "text/x-python",
   "name": "python",
   "nbconvert_exporter": "python",
   "pygments_lexer": "ipython3",
   "version": "3.9.12"
  },
  "vscode": {
   "interpreter": {
    "hash": "bb92cfc77ebe3751b7fb3df8620ceb006227daaf69256df93b17635e0b7c66c1"
   }
  }
 },
 "nbformat": 4,
 "nbformat_minor": 2
}
