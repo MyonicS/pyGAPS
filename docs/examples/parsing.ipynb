{
 "cells": [
  {
   "cell_type": "markdown",
   "metadata": {},
   "source": [
    "# Parsing examples\n",
    "\n",
    "Some examples on parsing to and from supported formats. More info about all parsing methods can be found in the [manual section](../manual/parsing.rst).\n",
    "\n",
    "## Declare paths\n",
    "\n",
    "First, let's do all the necessary imports and generate the paths that we'll use for file import and export."
   ]
  },
  {
   "cell_type": "code",
   "execution_count": 1,
   "metadata": {},
   "outputs": [],
   "source": [
    "from pathlib import Path\n",
    "import pygaps.parsing as pgp\n",
    "\n",
    "# Get directory paths\n",
    "base_path = Path.cwd() / 'data' / 'parsing'\n",
    "\n",
    "# Find files\n",
    "json_file_paths = list((base_path/'json').rglob('*.json'))\n",
    "xl_file_paths = list((base_path/'excel').rglob('*.xls'))\n",
    "csv_file_paths = list((base_path/'csv').rglob('*.csv'))"
   ]
  },
  {
   "cell_type": "markdown",
   "metadata": {},
   "source": [
    "## JSON Parsing\n",
    "### JSON Import\n",
    "\n",
    "Isotherms can be imported either from a json file or from a json string. The same function is used in both cases."
   ]
  },
  {
   "cell_type": "code",
   "execution_count": 2,
   "metadata": {},
   "outputs": [
    {
     "name": "stdout",
     "output_type": "stream",
     "text": [
      "WARNING: 'temperature_unit' was not specified , assumed as 'K'\n",
      "WARNING: 'temperature_unit' was not specified , assumed as 'K'\n",
      "Material: HKUST-1(Cu)\n",
      "Adsorbate: carbon dioxide\n",
      "Temperature: 303.0K\n",
      "Units: \n",
      "\tUptake in: mmol/g\n",
      "\tPressure in: bar\n",
      "Other properties: \n",
      "\tcomment: None\n",
      "\tdate: 2010-05-21 00:00:00\n",
      "\tiso_type: Calorimetrie\n",
      "\tlab: MADIREL\n",
      "\tinstrument: CV\n",
      "\tmaterial_batch: Test\n",
      "\tproject: None\n",
      "\tactivation_temperature: 150.0\n",
      "\tuser: ADW\n",
      "\n"
     ]
    }
   ],
   "source": [
    "# Import them\n",
    "isotherms = [pgp.isotherm_from_json(path) for path in json_file_paths]\n",
    "\n",
    "# Display an example file\n",
    "print(isotherms[1])"
   ]
  },
  {
   "cell_type": "markdown",
   "metadata": {},
   "source": [
    "### JSON Export\n",
    "\n",
    "Exporting to JSON can be done to a file or a string, depending on whether a path is passed. For this purpose use either the module `pygaps.isotherm_to_json()` function or the convenience class function `to_json()`."
   ]
  },
  {
   "cell_type": "code",
   "execution_count": 3,
   "metadata": {},
   "outputs": [],
   "source": [
    "# module function\n",
    "for isotherm in isotherms:\n",
    "    filename = ' '.join([str(isotherm.material), str(isotherm.adsorbate), str(isotherm.temperature)]) + '.json'\n",
    "    pgp.isotherm_to_json(isotherm, base_path / 'json' / filename)\n",
    "    \n",
    "# save to file with convenience function\n",
    "isotherms[0].to_json('isotherm.json')\n",
    "\n",
    "# string\n",
    "isotherm_string = isotherms[0].to_json()"
   ]
  },
  {
   "cell_type": "markdown",
   "metadata": {},
   "source": [
    "## Excel Parsing\n",
    "\n",
    "Excel *does not* have to be installed on the system in use.     \n",
    "\n",
    "### Excel Import"
   ]
  },
  {
   "cell_type": "code",
   "execution_count": 2,
   "metadata": {
    "scrolled": true
   },
   "outputs": [
    {
     "name": "stdout",
     "output_type": "stream",
     "text": [
      "The file version is None while the parser uses version 3.0. Strange things might happen, so double check your data.\n",
      "WARNING: 'temperature_unit' was not specified , assumed as 'K'\n",
      "The file version is None while the parser uses version 3.0. Strange things might happen, so double check your data.\n",
      "WARNING: 'temperature_unit' was not specified , assumed as 'K'\n",
      "Material: HKUST-1(Cu)\n",
      "Adsorbate: carbon dioxide\n",
      "Temperature: 303.0K\n",
      "Units: \n",
      "\tUptake in: mmol/g\n",
      "\tPressure in: bar\n",
      "Other properties: \n",
      "\tdate: 2010-05-21 00:00:00\n",
      "\tlab: MADIREL\n",
      "\tinstrument: CV\n",
      "\tproject: None\n",
      "\tactivation_temperature: 150.0\n",
      "\tuser: ADW\n",
      "\tcomment: None\n",
      "\tiso_type: Calorimetrie\n",
      "\tmaterial_batch: Test\n",
      "\n"
     ]
    }
   ],
   "source": [
    "# Import them\n",
    "isotherms = [pgp.isotherm_from_xl(path) for path in xl_file_paths]\n",
    "\n",
    "# Display an example file\n",
    "print(isotherms[1])"
   ]
  },
  {
   "cell_type": "code",
   "execution_count": 3,
   "metadata": {},
   "outputs": [
    {
     "data": {
      "text/html": [
       "<pre style=\"white-space:pre;overflow-x:auto;line-height:normal;font-family:Menlo,'DejaVu Sans Mono',consolas,'Courier New',monospace\">\n",
       "<span style=\"font-weight: bold\">(</span>\n",
       "    <span style=\"font-weight: bold\">&lt;</span><span style=\"color: #ff00ff; text-decoration-color: #ff00ff; font-weight: bold\">AxesSubplot:</span><span style=\"color: #808000; text-decoration-color: #808000; font-weight: bold\">xlabel</span><span style=\"color: #000000; text-decoration-color: #000000\">=</span><span style=\"color: #008000; text-decoration-color: #008000\">'Pressure [$bar$]'</span><span style=\"color: #000000; text-decoration-color: #000000\">, </span><span style=\"color: #808000; text-decoration-color: #808000\">ylabel</span><span style=\"color: #000000; text-decoration-color: #000000\">=</span><span style=\"color: #008000; text-decoration-color: #008000\">'Loading [$mmol\\\\/g^{-1}$]'</span><span style=\"font-weight: bold\">&gt;</span>,\n",
       "    <span style=\"font-weight: bold\">&lt;</span><span style=\"color: #ff00ff; text-decoration-color: #ff00ff; font-weight: bold\">AxesSubplot:</span><span style=\"color: #808000; text-decoration-color: #808000; font-weight: bold\">ylabel</span><span style=\"color: #000000; text-decoration-color: #000000\">=</span><span style=\"color: #008000; text-decoration-color: #008000\">'enthalpy(kJ/mol)'</span><span style=\"font-weight: bold\">&gt;</span>\n",
       "<span style=\"font-weight: bold\">)</span>\n",
       "</pre>\n"
      ],
      "text/plain": [
       "\n",
       "\u001b[1m(\u001b[0m\n",
       "    \u001b[1m<\u001b[0m\u001b[1;95mAxesSubplot:\u001b[0m\u001b[1;33mxlabel\u001b[0m\u001b[39m=\u001b[0m\u001b[32m'Pressure \u001b[0m\u001b[32m[\u001b[0m\u001b[32m$bar$\u001b[0m\u001b[32m]\u001b[0m\u001b[32m'\u001b[0m\u001b[39m, \u001b[0m\u001b[33mylabel\u001b[0m\u001b[39m=\u001b[0m\u001b[32m'Loading \u001b[0m\u001b[32m[\u001b[0m\u001b[32m$mmol\\\\/g^\u001b[0m\u001b[32m{\u001b[0m\u001b[32m-1\u001b[0m\u001b[32m}\u001b[0m\u001b[32m$\u001b[0m\u001b[32m]\u001b[0m\u001b[32m'\u001b[0m\u001b[1m>\u001b[0m,\n",
       "    \u001b[1m<\u001b[0m\u001b[1;95mAxesSubplot:\u001b[0m\u001b[1;33mylabel\u001b[0m\u001b[39m=\u001b[0m\u001b[32m'enthalpy\u001b[0m\u001b[32m(\u001b[0m\u001b[32mkJ/mol\u001b[0m\u001b[32m)\u001b[0m\u001b[32m'\u001b[0m\u001b[1m>\u001b[0m\n",
       "\u001b[1m)\u001b[0m\n"
      ]
     },
     "metadata": {},
     "output_type": "display_data"
    },
    {
     "data": {
      "image/png": "[encoded data removed]"
     },
     "metadata": {
      "needs_background": "light"
     },
     "output_type": "display_data"
    }
   ],
   "source": [
    "isotherms[1].plot()"
   ]
  },
  {
   "cell_type": "markdown",
   "metadata": {},
   "source": [
    "### Excel Export"
   ]
  },
  {
   "cell_type": "code",
   "execution_count": 5,
   "metadata": {},
   "outputs": [],
   "source": [
    "# Export each isotherm in turn\n",
    "for isotherm in isotherms:\n",
    "    filename = ' '.join([str(isotherm.material), str(isotherm.adsorbate), str(isotherm.temperature)]) + '.xls'\n",
    "    pgp.isotherm_to_xl(isotherm, base_path / 'excel' / filename)\n",
    "\n",
    "# save to file with convenience function\n",
    "isotherms[0].to_xl('isotherm.xls')"
   ]
  },
  {
   "cell_type": "markdown",
   "metadata": {},
   "source": [
    "## CSV Parsing\n",
    "### CSV Import\n",
    "\n",
    "\n",
    "Like JSON, isotherms can be imported either from a CSV file or from a CSV string. The same function is used in both cases."
   ]
  },
  {
   "cell_type": "code",
   "execution_count": 6,
   "metadata": {},
   "outputs": [
    {
     "name": "stdout",
     "output_type": "stream",
     "text": [
      "WARNING: 'temperature_unit' was not specified , assumed as 'K'\n",
      "WARNING: 'temperature_unit' was not specified , assumed as 'K'\n",
      "Material: HKUST-1(Cu)\n",
      "Adsorbate: carbon dioxide\n",
      "Temperature: 303.0K\n",
      "Units: \n",
      "\tUptake in: mmol/g\n",
      "\tPressure in: bar\n",
      "Other properties: \n",
      "\tmaterial_batch: Test\n",
      "\tiso_type: Calorimetrie\n",
      "\tuser: ADW\n",
      "\tmachine: CV\n",
      "\tdate: 21/05/2010 00:00\n",
      "\tactivation_temperature: 150.0\n",
      "\tlab: MADIREL\n",
      "\n"
     ]
    }
   ],
   "source": [
    "# Import them\n",
    "isotherms = [pgp.isotherm_from_csv(path) for path in csv_file_paths]\n",
    "\n",
    "# Display an example file\n",
    "print(isotherms[0])"
   ]
  },
  {
   "cell_type": "markdown",
   "metadata": {},
   "source": [
    "### CSV Export"
   ]
  },
  {
   "cell_type": "code",
   "execution_count": 7,
   "metadata": {},
   "outputs": [],
   "source": [
    "# Export each isotherm in turn\n",
    "for isotherm in isotherms:\n",
    "    filename = ' '.join([str(isotherm.material), str(isotherm.adsorbate), str(isotherm.temperature)]) + '.csv'\n",
    "    pgp.isotherm_to_csv(isotherm, base_path / 'csv' / filename)\n",
    "\n",
    "# save to file with convenience function\n",
    "isotherms[0].to_csv('isotherm.csv')\n",
    "\n",
    "# string representation\n",
    "isotherm_string = isotherms[0].to_csv()"
   ]
  }
 ],
 "metadata": {
  "kernelspec": {
   "display_name": "Python 3",
   "language": "python",
   "name": "python3"
  },
  "language_info": {
   "codemirror_mode": {
    "name": "ipython",
    "version": 3
   },
   "file_extension": ".py",
   "mimetype": "text/x-python",
   "name": "python",
   "nbconvert_exporter": "python",
   "pygments_lexer": "ipython3",
   "version": "3.9.7"
  }
 },
 "nbformat": 4,
 "nbformat_minor": 2
}
